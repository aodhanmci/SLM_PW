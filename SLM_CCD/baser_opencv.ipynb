{
 "cells": [
  {
   "cell_type": "code",
   "execution_count": null,
   "metadata": {},
   "outputs": [],
   "source": [
    "import matplotlib.pyplot as plt\n",
    "import numpy as np\n",
    "import pypylon.pylon as py\n",
    "import os\n",
    "import cv2\n",
    "from pypylon_opencv_viewer import BaslerOpenCVViewer\n",
    "maxCamerasToUse = 2\n",
    "# get transport layer and all attached devices\n",
    "def impro(img):\n",
    "    cv2.namedWindow('1', cv2.WINDOW_NORMAL | cv2.WINDOW_GUI_NORMAL)\n",
    "    cv2.resizeWindow('1', 1080, 720)\n",
    "    cv2.imshow(\"1\", np.hstack([img, (255-img)]))\n",
    "\n",
    "\n",
    "tlf = py.TlFactory.GetInstance()\n",
    "devices = tlf.EnumerateDevices()\n",
    "NUM_CAMERAS = len(devices)\n",
    "os.environ[\"PYLON_CAMEMU\"] = f\"{NUM_CAMERAS}\"\n",
    "\n",
    "exitCode = 0\n",
    "if NUM_CAMERAS == 0:\n",
    "    raise py.RuntimeException(\"No camera connected\")\n",
    "else:\n",
    "    print(f'{NUM_CAMERAS} cameras detected:\\n')\n",
    "    for counter, device in enumerate(devices):\n",
    "        print(f'{counter}) {device.GetFriendlyName()}') # return readable name\n",
    "        print(f'{counter}) {device.GetFullName()}\\n') # return unique code\n",
    "\n",
    "cam = py.InstantCamera(tlf.CreateDevice(devices[2]))\n",
    "cam.Open()\n",
    "viewer = BaslerOpenCVViewer(cam)\n",
    "img = viewer.get_image()\n",
    "viewer.set_impro_function(impro, own_window=True)\n",
    "\n"
   ]
  },
  {
   "cell_type": "code",
   "execution_count": null,
   "metadata": {},
   "outputs": [],
   "source": [
    "\n"
   ]
  }
 ],
 "metadata": {
  "kernelspec": {
   "display_name": "base",
   "language": "python",
   "name": "python3"
  },
  "language_info": {
   "codemirror_mode": {
    "name": "ipython",
    "version": 3
   },
   "file_extension": ".py",
   "mimetype": "text/x-python",
   "name": "python",
   "nbconvert_exporter": "python",
   "pygments_lexer": "ipython3",
   "version": "3.11.4"
  },
  "orig_nbformat": 4
 },
 "nbformat": 4,
 "nbformat_minor": 2
}
