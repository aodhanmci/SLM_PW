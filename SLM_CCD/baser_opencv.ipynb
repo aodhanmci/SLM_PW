{
 "cells": [
  {
   "cell_type": "code",
   "execution_count": 2,
   "metadata": {},
   "outputs": [
    {
     "name": "stdout",
     "output_type": "stream",
     "text": [
      "6 cameras detected:\n",
      "\n",
      "0) IP2-modeim (22044404)\n",
      "0) Basler acA1600-20gm#0030531F31F4#192.168.18.202:3956\n",
      "\n",
      "1) IP2-targetscatt (22819565)\n",
      "1) Basler acA1300-22gm#0030532B05ED#192.168.18.206:3956\n",
      "\n",
      "2) IP2-MCPcam (22839807)\n",
      "2) Basler acA2040-35gm#0030532B54FF#192.168.18.198:3956\n",
      "\n",
      "3) Basler Emulation (0815-0000)\n",
      "3) Emulation (0815-0000)\n",
      "\n",
      "4) Basler Emulation (0815-0001)\n",
      "4) Emulation (0815-0001)\n",
      "\n",
      "5) Basler Emulation (0815-0002)\n",
      "5) Emulation (0815-0002)\n",
      "\n"
     ]
    },
    {
     "ename": "RuntimeException",
     "evalue": "Failed to open 'Basler acA2040-35gm#0030532B54FF#192.168.18.198:3956'. The device is controlled by another application. Err: An attempt was made to access an address location which is currently/momentary not accessible. (0xE1018006)\n : RuntimeException thrown (file 'gigedevice.cpp', line 308)",
     "output_type": "error",
     "traceback": [
      "\u001b[1;31m---------------------------------------------------------------------------\u001b[0m",
      "\u001b[1;31mRuntimeException\u001b[0m                          Traceback (most recent call last)",
      "Cell \u001b[1;32mIn[2], line 30\u001b[0m\n\u001b[0;32m     27\u001b[0m         \u001b[39mprint\u001b[39m(\u001b[39mf\u001b[39m\u001b[39m'\u001b[39m\u001b[39m{\u001b[39;00mcounter\u001b[39m}\u001b[39;00m\u001b[39m) \u001b[39m\u001b[39m{\u001b[39;00mdevice\u001b[39m.\u001b[39mGetFullName()\u001b[39m}\u001b[39;00m\u001b[39m\\n\u001b[39;00m\u001b[39m'\u001b[39m) \u001b[39m# return unique code\u001b[39;00m\n\u001b[0;32m     29\u001b[0m cam \u001b[39m=\u001b[39m py\u001b[39m.\u001b[39mInstantCamera(tlf\u001b[39m.\u001b[39mCreateDevice(devices[\u001b[39m2\u001b[39m]))\n\u001b[1;32m---> 30\u001b[0m cam\u001b[39m.\u001b[39mOpen()\n\u001b[0;32m     31\u001b[0m viewer \u001b[39m=\u001b[39m BaslerOpenCVViewer(cam)\n\u001b[0;32m     32\u001b[0m img \u001b[39m=\u001b[39m viewer\u001b[39m.\u001b[39mget_image()\n",
      "File \u001b[1;32mc:\\Users\\loasis.BELLANET\\AppData\\Local\\miniconda3\\Lib\\site-packages\\pypylon\\pylon.py:3303\u001b[0m, in \u001b[0;36mInstantCamera.Open\u001b[1;34m(self)\u001b[0m\n\u001b[0;32m   3269\u001b[0m \u001b[39mdef\u001b[39;00m \u001b[39mOpen\u001b[39m(\u001b[39mself\u001b[39m):\n\u001b[0;32m   3270\u001b[0m \u001b[39m    \u001b[39m\u001b[39mr\u001b[39m\u001b[39m\"\"\"\u001b[39;00m\n\u001b[0;32m   3271\u001b[0m \n\u001b[0;32m   3272\u001b[0m \n\u001b[1;32m   (...)\u001b[0m\n\u001b[0;32m   3301\u001b[0m \n\u001b[0;32m   3302\u001b[0m \u001b[39m    \"\"\"\u001b[39;00m\n\u001b[1;32m-> 3303\u001b[0m     \u001b[39mreturn\u001b[39;00m _pylon\u001b[39m.\u001b[39mInstantCamera_Open(\u001b[39mself\u001b[39m)\n",
      "\u001b[1;31mRuntimeException\u001b[0m: Failed to open 'Basler acA2040-35gm#0030532B54FF#192.168.18.198:3956'. The device is controlled by another application. Err: An attempt was made to access an address location which is currently/momentary not accessible. (0xE1018006)\n : RuntimeException thrown (file 'gigedevice.cpp', line 308)"
     ]
    }
   ],
   "source": [
    "import matplotlib.pyplot as plt\n",
    "import numpy as np\n",
    "import pypylon.pylon as py\n",
    "import os\n",
    "import cv2\n",
    "from pypylon_opencv_viewer import BaslerOpenCVViewer\n",
    "maxCamerasToUse = 2\n",
    "# get transport layer and all attached devices\n",
    "def impro(img):\n",
    "    cv2.namedWindow('1', cv2.WINDOW_NORMAL | cv2.WINDOW_GUI_NORMAL)\n",
    "    cv2.resizeWindow('1', 1080, 720)\n",
    "    cv2.imshow(\"1\", np.hstack([img, (255-img)]))\n",
    "\n",
    "\n",
    "tlf = py.TlFactory.GetInstance()\n",
    "devices = tlf.EnumerateDevices()\n",
    "NUM_CAMERAS = len(devices)\n",
    "os.environ[\"PYLON_CAMEMU\"] = f\"{NUM_CAMERAS}\"\n",
    "\n",
    "exitCode = 0\n",
    "if NUM_CAMERAS == 0:\n",
    "    raise py.RuntimeException(\"No camera connected\")\n",
    "else:\n",
    "    print(f'{NUM_CAMERAS} cameras detected:\\n')\n",
    "    for counter, device in enumerate(devices):\n",
    "        print(f'{counter}) {device.GetFriendlyName()}') # return readable name\n",
    "        print(f'{counter}) {device.GetFullName()}\\n') # return unique code\n",
    "\n",
    "cam = py.InstantCamera(tlf.CreateDevice(devices[2]))\n",
    "cam.Open()\n",
    "viewer = BaslerOpenCVViewer(cam)\n",
    "img = viewer.get_image()\n",
    "viewer.set_impro_function(impro, own_window=True)\n",
    "\n"
   ]
  },
  {
   "cell_type": "code",
   "execution_count": null,
   "metadata": {},
   "outputs": [],
   "source": [
    "\n"
   ]
  }
 ],
 "metadata": {
  "kernelspec": {
   "display_name": "base",
   "language": "python",
   "name": "python3"
  },
  "language_info": {
   "codemirror_mode": {
    "name": "ipython",
    "version": 3
   },
   "file_extension": ".py",
   "mimetype": "text/x-python",
   "name": "python",
   "nbconvert_exporter": "python",
   "pygments_lexer": "ipython3",
   "version": "3.11.4"
  },
  "orig_nbformat": 4
 },
 "nbformat": 4,
 "nbformat_minor": 2
}
